{
 "cells": [
  {
   "cell_type": "markdown",
   "metadata": {},
   "source": [
    "<h1 style=\"color:DodgerBlue\">Индивидальный проект</h1>"
   ]
  },
  {
   "cell_type": "markdown",
   "metadata": {},
   "source": [
    "<h2 style=\"color:DodgerBlue\">Название проекта:</h2>\n",
    "\n",
    "----\n",
    "\n",
    "### Вариант задания №19\n"
   ]
  },
  {
   "cell_type": "markdown",
   "metadata": {},
   "source": [
    "<h2 style=\"color:DodgerBlue\">Описание проекта:</h2>\n",
    "\n",
    "----\n",
    "\n",
    "**Описание задачи:**\n",
    "\n",
    "Создать базовый класс Subscription в C#, который будет представлять подписки на\n",
    "различные услуги. На основе этого класса разработать 2-3 производных класса,\n",
    "демонстрирующих принципы наследования и полиморфизма. В каждом из классов\n",
    "должны быть реализованы новые атрибуты и методы, а также переопределены\n",
    "некоторые методы базового класса для демонстрации полиморфизма.\n",
    "\n",
    "**Требования к базовому классу Subscription:**\n",
    "\n",
    "• Атрибуты: ID подписки (SubscriptionId), Название услуги (ServiceName),\n",
    "Стоимость подписки (Cost).\n",
    "\n",
    "•Методы:\n",
    "\n",
    "o CalculateMonthlyCost(): метод для расчета ежемесячной стоимости\n",
    "подписки.\n",
    "\n",
    "o ExtendSubscription(): метод для продления подписки на\n",
    "дополнительный период.\n",
    "\n",
    "o GetSubscriptionDetails(): метод для получения деталей подписки.\n",
    "\n",
    "**Требования к производным классам:**\n",
    "1. ПодпискаНаОнлайнСервис (OnlineServiceSubscription): Должна содержать\n",
    "дополнительные атрибуты, такие как Количество доступных пользователей\n",
    "(MaxUsers). Метод CalculateMonthlyCost() должен быть переопределен для\n",
    "учета количества пользователей при расчете стоимости.\n",
    "\n",
    "2. ПодпискаНаСтreamинг (StreamingSubscription): Должна содержать\n",
    "дополнительные атрибуты, такие как Количество одновременных потоков\n",
    "(MaxStreams). Метод ExtendSubscription() должен быть переопределен для\n",
    "добавления специальных предложений для продления подписки.\n",
    "\n",
    "3. ПодпискаНаВидео(VideoSubscription) (если требуется третий класс): Должна\n",
    "содержать дополнительные атрибуты, такие как Качество видео\n",
    "(VideoQuality). Метод GetSubscriptionDetails() должен быть переопределен\n",
    "для отображения качества видео вместе с другими деталями подписки.\n"
   ]
  },
  {
   "cell_type": "markdown",
   "metadata": {},
   "source": [
    "<h2 style=\"color:DodgerBlue\">Реализация:</h2>\n",
    "\n",
    "----"
   ]
  },
  {
   "cell_type": "code",
   "execution_count": 11,
   "metadata": {
    "dotnet_interactive": {
     "language": "csharp"
    },
    "polyglot_notebook": {
     "kernelName": "csharp"
    }
   },
   "outputs": [
    {
     "name": "stdout",
     "output_type": "stream",
     "text": [
      "Месячная стоимость для 5 пользователей равна 5000 рублей\n",
      "Подписка на Онлайн-Сервис продлена на 3 месяца за 3000 рублей\n",
      "Дополнительная информация по подписке: ID подписки: 1; Название сервиса: Онлайн-Сервис; Месячная стоимость: 1000 рублей\n",
      "\n",
      "Месячная стоимость подписки на Стриминг-Сервис равна 500 рублей\n",
      "Подписка на Стриминг-Сервис продлена на 3 месяца со скидкой 50% всего за 750 рублей\n",
      "Дополнительная информация по подписке: ID подписки: 2; Название сервиса: Стриминг-Сервис; Месячная стоимость: 500 рублей\n",
      "\n",
      "Месячная стоимость подписки на Видео-Сервис равна 1500 рублей\n",
      "Подписка на Видео-Сервис продлена на 3 месяца за 4500 рублей\n",
      "Дополнительная информация по подписке: ID подписки: 3; Название сервиса: Видео-Сервис; Месячная стоимость: 1500 рублей; Качество видео: 720p\n",
      "\n"
     ]
    }
   ],
   "source": [
    "public class Subscription{\n",
    "    public int SubscriptionId {get; set;}\n",
    "    public string ServiceName {get; set;}\n",
    "    public double Cost {get; set;}\n",
    "\n",
    "    public Subscription(int SubscriptionId, string ServiceName, double Cost){\n",
    "        this.SubscriptionId = SubscriptionId;\n",
    "        this.ServiceName = ServiceName;\n",
    "        this.Cost = Cost;\n",
    "    }\n",
    "\n",
    "    public virtual void CalculateMonthlyCost(){\n",
    "        Console.WriteLine($\"Месячная стоимость подписки на {ServiceName} равна {Cost} рублей\");\n",
    "    } \n",
    "\n",
    "    public virtual void ExtendSubscription(){\n",
    "        Console.WriteLine($\"Подписка на {ServiceName} продлена на 3 месяца за {Cost * 3} рублей\");\n",
    "    }\n",
    "\n",
    "    public virtual void GetSubscriptionDetails(){\n",
    "        Console.WriteLine($\"Дополнительная информация по подписке: ID подписки: {SubscriptionId}; Название сервиса: {ServiceName}; Месячная стоимость: {Cost} рублей\");\n",
    "    }\n",
    "}\n",
    "\n",
    "public class OnlineServiceSubscription : Subscription{\n",
    "    private int MaxUsers {get; set;}\n",
    "\n",
    "    public OnlineServiceSubscription(int subscriptionId, string serviceName, double cost, int maxUsers):base(subscriptionId, serviceName, cost){\n",
    "        \n",
    "        this.MaxUsers = maxUsers;\n",
    "    }\n",
    "\n",
    "    public override void CalculateMonthlyCost(){\n",
    "        Console.WriteLine($\"Месячная стоимость для {MaxUsers} пользователей равна {Cost * MaxUsers} рублей\");\n",
    "    }\n",
    "}\n",
    "\n",
    "public class StreamingSubscription : Subscription{\n",
    "    private int MaxStreams {get; set;}\n",
    "\n",
    "    public StreamingSubscription(int subscriptionId, string serviceName, double cost, int maxStreams) : base(subscriptionId, serviceName, cost){\n",
    "        this.MaxStreams = maxStreams;\n",
    "    }\n",
    "\n",
    "    public override void ExtendSubscription(){\n",
    "        Console.WriteLine($\"Подписка на {ServiceName} продлена на 3 месяца со скидкой 50% всего за {(Cost * 3) / 2 } рублей\");\n",
    "    }\n",
    "\n",
    "}\n",
    "\n",
    "public class VideoSubscription : Subscription{\n",
    "    private int VideoQuality {get; set;}\n",
    "\n",
    "    public VideoSubscription(int subscriptionId, string serviceName, double cost, int videoQuality) : base(subscriptionId, serviceName, cost){\n",
    "        this.VideoQuality = videoQuality;\n",
    "    }\n",
    "\n",
    "    public override void GetSubscriptionDetails(){\n",
    "        Console.WriteLine($\"Дополнительная информация по подписке: ID подписки: {SubscriptionId}; Название сервиса: {ServiceName}; Месячная стоимость: {Cost} рублей; Качество видео: {VideoQuality}p\");\n",
    "    }\n",
    "}\n",
    "\n",
    "OnlineServiceSubscription onlineServiceSubscription = new OnlineServiceSubscription(1, \"Онлайн-Сервис\", 1000, 5);\n",
    "onlineServiceSubscription.CalculateMonthlyCost();\n",
    "onlineServiceSubscription.ExtendSubscription();\n",
    "onlineServiceSubscription.GetSubscriptionDetails();\n",
    "Console.WriteLine();\n",
    "\n",
    "StreamingSubscription streamingSubscription = new StreamingSubscription(2, \"Стриминг-Сервис\", 500, 5);\n",
    "streamingSubscription.CalculateMonthlyCost();\n",
    "streamingSubscription.ExtendSubscription();\n",
    "streamingSubscription.GetSubscriptionDetails();\n",
    "Console.WriteLine();\n",
    "\n",
    "VideoSubscription videoSubscription = new VideoSubscription(3, \"Видео-Сервис\", 1500, 720);\n",
    "videoSubscription.CalculateMonthlyCost();\n",
    "videoSubscription.ExtendSubscription();\n",
    "videoSubscription.GetSubscriptionDetails();\n",
    "Console.WriteLine();\n",
    "\n"
   ]
  }
 ],
 "metadata": {
  "kernelspec": {
   "display_name": ".NET (C#)",
   "language": "C#",
   "name": ".net-csharp"
  },
  "polyglot_notebook": {
   "kernelInfo": {
    "defaultKernelName": "csharp",
    "items": [
     {
      "aliases": [],
      "languageName": "csharp",
      "name": "csharp"
     }
    ]
   }
  }
 },
 "nbformat": 4,
 "nbformat_minor": 2
}
